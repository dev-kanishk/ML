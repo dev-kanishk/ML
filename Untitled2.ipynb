{
 "cells": [
  {
   "cell_type": "code",
   "execution_count": 1,
   "metadata": {},
   "outputs": [],
   "source": [
    "import gspread\n",
    "import pandas as pd\n",
    "from pprint import pprint\n",
    "from oauth2client.service_account import ServiceAccountCredentials"
   ]
  },
  {
   "cell_type": "code",
   "execution_count": 2,
   "metadata": {},
   "outputs": [],
   "source": [
    "scope = [\"https://spreadsheets.google.com/feeds\",\n",
    "         \"https://www.googleapis.com/auth/spreadsheets\",\n",
    "         \"https://www.googleapis.com/auth/drive.file\",\n",
    "         \"https://www.googleapis.com/auth/drive\"]\n",
    "creds = ServiceAccountCredentials.from_json_keyfile_name(\"json_data.json\")"
   ]
  },
  {
   "cell_type": "code",
   "execution_count": 3,
   "metadata": {},
   "outputs": [],
   "source": [
    "client = gspread.authorize(creds)\n",
    "name = \"Easy Problems\""
   ]
  },
  {
   "cell_type": "code",
   "execution_count": 4,
   "metadata": {},
   "outputs": [],
   "source": [
    "sheet = client.open(\"this\")\n",
    "\n",
    "page = sheet.worksheet(\"Easy Problems\")\n",
    "\n",
    "# print(sheet[2])"
   ]
  },
  {
   "cell_type": "code",
   "execution_count": 5,
   "metadata": {},
   "outputs": [
    {
     "name": "stdout",
     "output_type": "stream",
     "text": [
      "505\n"
     ]
    }
   ],
   "source": [
    "import matplotlib\n",
    "import numpy\n",
    "from matplotlib.dates import date2num\n",
    "import matplotlib.pyplot as plt\n",
    "\n",
    "# data = sheet.get_all_records()\n",
    "data = page.get_all_values()\n",
    "# headers = data.pop()\n",
    "# print(headers)\n",
    "# df = pd.DataFrame(data, columns=headers)\n",
    "\n",
    "print(len(data))\n",
    "\n"
   ]
  },
  {
   "cell_type": "code",
   "execution_count": 4,
   "metadata": {},
   "outputs": [],
   "source": [
    "def get_nameIndex(data):\n",
    "    name_index = {}\n",
    "    for i in range(len(data[0])):\n",
    "        if data[0][i] != \"\":\n",
    "            name_index[data[0][i].lower()] = i\n",
    "    return name_index\n",
    "\n"
   ]
  },
  {
   "cell_type": "code",
   "execution_count": 6,
   "metadata": {},
   "outputs": [
    {
     "name": "stdout",
     "output_type": "stream",
     "text": [
      "{'sno': 0, 'topic': 1, 'company': 2, 'problem name': 3, 'link': 4, 'abhishek singh': 5, 'aditya': 15, 'astha gupta': 25, 'ayush gupta': 35, 'ayush kumar': 45, 'kanishk singhal': 55, 'kushargra shukla': 65, 'mohil gupta': 75, 'prayanshu tyagi': 85, 'sandeep pal': 95, 'shivanshi gupta': 105, 'shruti gupta': 115, 'shubham jaiswal': 125, 'soumitra shukla': 135, 'sudhanshu': 145, 'utkarsh prakash': 155}\n",
      "{'topic': 1, 'company': 2, 'problem name': 3, 'link': 4, 'abhishek singh': 5, 'aditya': 15, 'astha gupta': 25, 'ayush gupta': 35, 'ayush kumar': 45, 'kanishk singhal': 55, 'kushargra shukla': 65, 'mohil gupta': 75, 'prayanshu tyagi': 85, 'sandeep pal': 95, 'shivanshi gupta': 105, 'shruti gupta': 115, 'shubham jaiswal': 125, 'soumitra shukla': 135, 'sudhanshu': 145, 'utkarsh prakash': 155}\n",
      "{'topic': 1, 'company': 2, 'problem name': 3, 'link': 4, 'abhishek singh': 5, 'aditya': 15, 'astha gupta': 25, 'ayush gupta': 35, 'ayush kumar': 45, 'kanishk singhal': 55, 'kushargra shukla': 65, 'mohil gupta': 75, 'prayanshu tyagi': 85, 'sandeep pal': 95, 'shivanshi gupta': 105, 'shruti gupta': 115, 'shubham jaiswal': 125, 'soumitra shukla': 135, 'sudhanshu': 145, 'utkarsh prakash': 155}\n",
      "{'topic': 1, 'company': 2, 'problem name': 3, 'link': 4, 'aanchal singh': 5, 'ashish ranjan': 15, 'dinesh kumar': 25, 'gopal kumar': 35, 'piyush agarwal': 45, 'rahul yadav': 55, 'ravindra kumar': 65, 'ritik': 75, 'rohit verma': 85, 'sandeep yadav': 95, 'shivangi tiwari': 105, 'tanvi jain': 115, 'tooba zameer': 125, 'vishal katiyar': 135, 'vishnu kumar': 145, 'yohansh gupta': 155}\n",
      "{'topic': 1, 'company': 2, 'problem name': 3, 'link': 4, 'aanchal singh': 5, 'ashish ranjan': 15, 'dinesh kumar': 25, 'gopal kumar': 35, 'piyush agarwal': 45, 'rahul yadav': 55, 'ravindra kumar': 65, 'ritik': 75, 'rohit verma': 85, 'sandeep yadav': 95, 'shivangi tiwari': 105, 'tanvi jain': 115, 'tooba zameer': 125, 'vishal katiyar': 135, 'vishnu kumar': 145, 'yohansh gupta': 155}\n",
      "{'topic': 1, 'company': 2, 'problem name': 3, 'link': 4, 'aanchal singh': 5, 'ashish ranjan': 15, 'dinesh kumar': 25, 'gopal kumar': 35, 'piyush agarwal': 45, 'rahul yadav': 55, 'ravindra kumar': 65, 'ritik': 75, 'rohit verma': 85, 'sandeep yadav': 95, 'shivangi tiwari': 105, 'tanvi jain': 115, 'tooba zameer': 125, 'vishal katiyar': 135, 'vishnu kumar': 145, 'yohansh gupta': 155}\n"
     ]
    }
   ],
   "source": [
    "\n",
    "\n",
    "def counter(data,this):\n",
    "    count = 0\n",
    "\n",
    "    for i in range(5,len(data[0])):\n",
    "        if data[i][this+1] != \"\" and data[i][this+1] != \"no\" and data[i][this+1] != \"No\" and data[i][this+1] != \"NO\":\n",
    "            count += 1;\n",
    "    return count\n",
    "\n",
    "\n",
    "# sheet1 = client.open(\"this\")\n",
    "def final_list():\n",
    "    sheets = []\n",
    "    sheets.append(\"this\")\n",
    "    sheets.append(\"Copy of Target 2021 Team-2A\")\n",
    "\n",
    "    subsheets = 'Easy Problems','Medium Problems','Hard Problems'\n",
    "\n",
    "    # page = sheet.worksheet(\"Easy Problems\")\n",
    "\n",
    "    topper = {}\n",
    "    sol = 0\n",
    "    for sheet in sheets:\n",
    "        sheet1 = client.open(sheet)\n",
    "\n",
    "        for subsheet in subsheets:\n",
    "            page = sheet1.worksheet(subsheet)\n",
    "            data = page.get_all_values()\n",
    "            name_index = get_nameIndex(data)\n",
    "    #         print(name_index)\n",
    "            k = 0\n",
    "            for i in name_index:\n",
    "                k+=1\n",
    "                if name_index[i] > 4:\n",
    "                    ths = counter(data,name_index[i])\n",
    "                    coder = i\n",
    "                    if i in topper:\n",
    "                        topper[coder] += ths\n",
    "                    else:\n",
    "                        topper[coder] = ths\n",
    "\n",
    "\n",
    "\n",
    "\n",
    "\n"
   ]
  },
  {
   "cell_type": "code",
   "execution_count": 7,
   "metadata": {},
   "outputs": [
    {
     "name": "stdout",
     "output_type": "stream",
     "text": [
      "{'rohit verma': 176, 'kanishk singhal': 171, 'ashish ranjan': 163, 'astha gupta': 155, 'vishal katiyar': 152, 'piyush agarwal': 150, 'ayush gupta': 143, 'soumitra shukla': 131, 'aanchal singh': 130, 'ravindra kumar': 130, 'tooba zameer': 130, 'dinesh kumar': 129, 'yohansh gupta': 126, 'prayanshu tyagi': 123, 'tanvi jain': 121, 'vishnu kumar': 119, 'ritik': 107, 'ayush kumar': 104, 'abhishek singh': 93, 'shivanshi gupta': 92, 'mohil gupta': 87, 'sandeep yadav': 87, 'gopal kumar': 53, 'kushargra shukla': 50, 'sudhanshu': 36, 'rahul yadav': 27, 'shruti gupta': 26, 'sandeep pal': 21, 'shivangi tiwari': 17, 'aditya': 16, 'utkarsh prakash': 11, 'shubham jaiswal': 4}\n"
     ]
    }
   ],
   "source": [
    "# print(topper)\n",
    "\n",
    "import operator\n",
    "sorted_d = dict(sorted(topper.items(), key=operator.itemgetter(1),reverse=True))\n",
    "# topper =list(topper.items())\n",
    "# topper.sort(reverse=True)\n",
    "print(sorted_d)\n",
    "# print(topper)\n",
    "# print(sol)"
   ]
  },
  {
   "cell_type": "markdown",
   "metadata": {},
   "source": [
    "\n"
   ]
  }
 ],
 "metadata": {
  "kernelspec": {
   "display_name": "Python 3",
   "language": "python",
   "name": "python3"
  },
  "language_info": {
   "codemirror_mode": {
    "name": "ipython",
    "version": 3
   },
   "file_extension": ".py",
   "mimetype": "text/x-python",
   "name": "python",
   "nbconvert_exporter": "python",
   "pygments_lexer": "ipython3",
   "version": "3.7.5"
  }
 },
 "nbformat": 4,
 "nbformat_minor": 4
}
