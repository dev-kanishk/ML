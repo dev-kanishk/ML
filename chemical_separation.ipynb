{
 "cells": [
  {
   "cell_type": "code",
   "execution_count": 117,
   "metadata": {},
   "outputs": [],
   "source": [
    "import numpy as np\n",
    "import pandas as pd\n",
    "import matplotlib.pyplot as plt\n",
    "import pprint\n",
    "\n",
    "def hypothesis(X,w,b):\n",
    "    h = np.dot(X,w)+b\n",
    "    return sigmoid(h)\n",
    "\n",
    "def sigmoid(z):\n",
    "    return 1.0/(1.0+np.exp(-1.0*z))\n",
    "\n",
    "def get_grad(y_true, X, w, b):\n",
    "    grad_w = np.zeros(w.shape[0])\n",
    "    grad_b = 0.0\n",
    "    m = X.shape[0]\n",
    "    \n",
    "    for i in range(m):\n",
    "        hx = hypothesis(X[i], w,b)\n",
    "        grad_w += 1 * (y_true[i]-hx)*X[i]\n",
    "        grad_b += 1*(y_true[i]-hx)\n",
    "        \n",
    "    grad_w /= m\n",
    "    grad_b /= m\n",
    "    return grad_w, grad_b\n",
    "\n",
    "\n",
    "def error(y_true, X, w, b):\n",
    "    m = X.shape[0]\n",
    "    err = 0.0\n",
    "    np.seterr(divide = 'ignore') \n",
    "    for i in range(m):\n",
    "        hx = hypothesis(X[i], w, b)\n",
    "#         print(hx)\n",
    "        if hx != 0 :\n",
    "            err += y_true[i] * np.log2(hx) + (1-y_true[i])*np.log2(1-hx)\n",
    "        else:\n",
    "            err +=(1-y_true[i])*np.log2(1-hx)\n",
    "            \n",
    "        \n",
    "\n",
    "        \n",
    "    return -err/m\n",
    "\n"
   ]
  },
  {
   "cell_type": "code",
   "execution_count": 120,
   "metadata": {},
   "outputs": [
    {
     "name": "stdout",
     "output_type": "stream",
     "text": [
      "array([[-1.23937466,  0.74910149, -0.52851491],\n",
      "       [-1.03607028,  0.80143631, -1.28371152],\n",
      "       [-0.61557914,  1.57952053, -1.39192706],\n",
      "       ...,\n",
      "       [ 0.08827657,  1.63878904, -2.19364056],\n",
      "       [ 1.52515501,  0.85923429,  1.50530791],\n",
      "       [-0.97981744,  0.56395376, -1.53939416]])\n",
      "3000\n"
     ]
    }
   ],
   "source": [
    "def grad_descent(X, y_true, w, b, learning_rate = 0.1):\n",
    "    \n",
    "    err = error(y_true, X, w, b)\n",
    "    grad_w, grad_b = get_grad(y_true, X, w, b)\n",
    "    \n",
    "    w = w + learning_rate * grad_w\n",
    "    b = b + learning_rate * grad_b\n",
    "    \n",
    "    return err,w,b;\n",
    "\n",
    "X = pd.read_csv('./Training Data/Train/Logistic_X_Train.csv')\n",
    "# print(X)\n",
    "X = X.to_numpy()\n",
    "Y = pd.read_csv('./Training Data/Train/Logistic_Y_Train.csv')\n",
    "# print(Y)\n",
    "y_train = Y.to_numpy()\n",
    "\n",
    "pprint.pprint(x_train)\n",
    "x_train = X;\n",
    "\n",
    "\n",
    "loss = []\n",
    "# acc = []\n",
    "w = 2*np.random.random((x_train.shape[1],))\n",
    "print(x_train.shape[0])\n",
    "b = 5*np.random.random()\n",
    "\n",
    "for i in range(100):\n",
    "    l,w,b = grad_descent(x_train, y_train, w, b, learning_rate = 0.1)\n",
    "    loss.append(l)\n",
    "    \n",
    "\n"
   ]
  },
  {
   "cell_type": "code",
   "execution_count": 121,
   "metadata": {},
   "outputs": [
    {
     "name": "stdout",
     "output_type": "stream",
     "text": [
      "[array([4.90296097]),\n",
      " array([4.73581688]),\n",
      " array([4.56991258]),\n",
      " array([4.40524435]),\n",
      " array([4.24181061]),\n",
      " array([4.07961271]),\n",
      " array([3.91865613]),\n",
      " array([3.75895201]),\n",
      " array([3.60051914]),\n",
      " array([3.44338647]),\n",
      " array([3.28759626]),\n",
      " array([3.13320787]),\n",
      " array([2.9803025]),\n",
      " array([2.828989]),\n",
      " array([2.67941126]),\n",
      " array([2.53175733]),\n",
      " array([2.38627076]),\n",
      " array([2.24326398]),\n",
      " array([2.10313327]),\n",
      " array([1.9663737]),\n",
      " array([1.83359104]),\n",
      " array([1.70550541]),\n",
      " array([1.58293898]),\n",
      " array([1.46677886]),\n",
      " array([1.35790862]),\n",
      " array([1.25711066]),\n",
      " array([1.16495656]),\n",
      " array([1.08171597]),\n",
      " array([1.00731574]),\n",
      " array([0.94136373]),\n",
      " array([0.88322529]),\n",
      " array([0.83212281]),\n",
      " array([0.78722872]),\n",
      " array([0.74773516]),\n",
      " array([0.71289659]),\n",
      " array([0.68205012]),\n",
      " array([0.65462056]),\n",
      " array([0.63011644]),\n",
      " array([0.60812174]),\n",
      " array([0.58828603]),\n",
      " array([0.5703147]),\n",
      " array([0.55396]),\n",
      " array([0.53901324]),\n",
      " array([0.52529813]),\n",
      " array([0.51266528]),\n",
      " array([0.50098759]),\n",
      " array([0.4901565]),\n",
      " array([0.48007886]),\n",
      " array([0.47067445]),\n",
      " array([0.46187389]),\n",
      " array([0.45361689]),\n",
      " array([0.44585088]),\n",
      " array([0.43852984]),\n",
      " array([0.43161333]),\n",
      " array([0.42506565]),\n",
      " array([0.41885524]),\n",
      " array([0.41295405]),\n",
      " array([0.40733709]),\n",
      " array([0.40198203]),\n",
      " array([0.39686885]),\n",
      " array([0.39197955]),\n",
      " array([0.38729791]),\n",
      " array([0.38280928]),\n",
      " array([0.37850037]),\n",
      " array([0.37435912]),\n",
      " array([0.37037455]),\n",
      " array([0.36653665]),\n",
      " array([0.36283627]),\n",
      " array([0.35926501]),\n",
      " array([0.35581519]),\n",
      " array([0.35247972]),\n",
      " array([0.34925209]),\n",
      " array([0.34612629]),\n",
      " array([0.34309675]),\n",
      " array([0.34015832]),\n",
      " array([0.33730625]),\n",
      " array([0.3345361]),\n",
      " array([0.33184374]),\n",
      " array([0.32922535]),\n",
      " array([0.32667735]),\n",
      " array([0.3241964]),\n",
      " array([0.32177938]),\n",
      " array([0.31942337]),\n",
      " array([0.31712564]),\n",
      " array([0.31488361]),\n",
      " array([0.31269488]),\n",
      " array([0.31055719]),\n",
      " array([0.3084684]),\n",
      " array([0.3064265]),\n",
      " array([0.30442961]),\n",
      " array([0.30247594]),\n",
      " array([0.3005638]),\n",
      " array([0.29869159]),\n",
      " array([0.29685782]),\n",
      " array([0.29506104]),\n",
      " array([0.29329991]),\n",
      " array([0.29157315]),\n",
      " array([0.28987952]),\n",
      " array([0.28821789]),\n",
      " array([0.28658714])]\n"
     ]
    },
    {
     "data": {
      "image/png": "[encoded data removed]",
      "text/plain": [
       "<Figure size 432x288 with 1 Axes>"
      ]
     },
     "metadata": {
      "needs_background": "light"
     },
     "output_type": "display_data"
    }
   ],
   "source": [
    "plt.plot(loss)\n",
    "pprint.pprint(loss)"
   ]
  },
  {
   "cell_type": "code",
   "execution_count": 122,
   "metadata": {},
   "outputs": [],
   "source": [
    "def predict(x,w,b):\n",
    "    confidence = hypothesis(x,w,b)\n",
    "    \n",
    "    if confidence < 0.5:\n",
    "        return 0\n",
    "    return 1"
   ]
  },
  {
   "cell_type": "code",
   "execution_count": 125,
   "metadata": {},
   "outputs": [],
   "source": [
    "X_test = pd.read_csv('./Test Cases/Test Cases/Logistic_X_Test.csv')"
   ]
  },
  {
   "cell_type": "code",
   "execution_count": 127,
   "metadata": {},
   "outputs": [
    {
     "name": "stdout",
     "output_type": "stream",
     "text": [
      "[[-0.76750773 -0.2618595  -2.51483147]\n",
      " [-1.24165258  1.44900144 -0.4130893 ]\n",
      " [ 1.92527007  1.93176097  1.34261917]\n",
      " ...\n",
      " [-1.18696873  0.94734729 -0.78638597]\n",
      " [-0.53232395  1.84516978 -0.9935503 ]\n",
      " [ 0.54023217  0.58099406  0.38664901]]\n"
     ]
    }
   ],
   "source": [
    "X_test = X_test.to_numpy()\n",
    "print(X_test)"
   ]
  },
  {
   "cell_type": "code",
   "execution_count": 129,
   "metadata": {},
   "outputs": [
    {
     "name": "stdout",
     "output_type": "stream",
     "text": [
      "[1, 1, 0, 1, 1, 1, 0, 1, 0, 0, 0, 1, 1, 1, 1, 0, 1, 0, 1, 1, 1, 0, 1, 0, 1, 1, 1, 0, 0, 1, 1, 1, 1, 0, 0, 0, 1, 1, 0, 0, 1, 0, 0, 0, 0, 1, 1, 1, 0, 1, 1, 1, 1, 1, 0, 0, 0, 1, 1, 0, 0, 1, 1, 0, 1, 1, 0, 0, 0, 0, 1, 1, 0, 1, 1, 1, 0, 1, 1, 1, 0, 0, 1, 1, 1, 0, 1, 1, 1, 0, 0, 1, 1, 0, 0, 1, 1, 1, 1, 0, 1, 0, 1, 1, 0, 1, 0, 1, 1, 0, 0, 1, 0, 0, 0, 1, 0, 0, 1, 0, 0, 1, 0, 1, 0, 0, 0, 1, 1, 0, 1, 1, 1, 0, 1, 0, 1, 0, 1, 1, 1, 1, 0, 1, 0, 0, 1, 1, 1, 0, 1, 1, 1, 1, 0, 1, 0, 0, 0, 0, 0, 0, 1, 0, 1, 0, 0, 1, 1, 1, 1, 1, 1, 1, 1, 1, 1, 0, 1, 0, 0, 1, 1, 1, 0, 1, 1, 1, 1, 1, 0, 0, 1, 0, 1, 0, 0, 0, 1, 1, 1, 1, 0, 0, 1, 1, 1, 1, 0, 0, 0, 0, 0, 0, 1, 1, 1, 0, 1, 0, 0, 1, 1, 1, 1, 0, 1, 1, 0, 0, 1, 0, 0, 1, 0, 1, 1, 0, 1, 1, 1, 0, 0, 0, 0, 0, 0, 1, 1, 1, 0, 1, 1, 0, 1, 0, 1, 1, 0, 1, 1, 1, 0, 0, 1, 1, 1, 0, 1, 1, 1, 1, 1, 0, 1, 0, 0, 0, 0, 0, 1, 1, 0, 0, 0, 1, 1, 1, 0, 0, 1, 1, 0, 1, 0, 1, 1, 1, 0, 1, 1, 0, 1, 1, 0, 1, 1, 1, 1, 0, 0, 1, 0, 1, 1, 0, 0, 1, 1, 1, 1, 1, 0, 1, 1, 0, 0, 0, 1, 0, 1, 1, 0, 0, 1, 1, 1, 0, 1, 0, 1, 1, 1, 0, 1, 1, 1, 1, 1, 0, 1, 1, 1, 0, 1, 1, 0, 1, 1, 0, 1, 1, 1, 0, 1, 1, 0, 1, 0, 0, 1, 1, 1, 1, 1, 1, 0, 1, 0, 0, 0, 1, 1, 1, 1, 1, 1, 0, 1, 1, 0, 1, 0, 1, 0, 0, 1, 0, 0, 1, 0, 0, 1, 0, 1, 1, 0, 0, 1, 1, 1, 1, 0, 1, 0, 1, 0, 1, 1, 0, 1, 1, 1, 0, 1, 0, 1, 1, 0, 1, 1, 0, 1, 1, 0, 1, 0, 1, 1, 1, 1, 0, 1, 0, 0, 0, 1, 0, 0, 0, 0, 1, 1, 1, 1, 0, 1, 1, 0, 0, 1, 1, 1, 1, 0, 1, 1, 0, 1, 1, 1, 1, 1, 1, 1, 1, 0, 1, 1, 1, 0, 0, 1, 0, 1, 0, 1, 0, 0, 1, 0, 0, 0, 0, 1, 1, 1, 1, 1, 0, 1, 0, 0, 1, 0, 1, 0, 1, 1, 0, 0, 0, 0, 1, 0, 0, 0, 0, 1, 0, 1, 0, 1, 1, 0, 1, 1, 1, 1, 1, 1, 1, 0, 0, 0, 1, 0, 0, 0, 1, 1, 1, 1, 1, 0, 0, 1, 1, 1, 0, 1, 0, 1, 0, 0, 1, 1, 1, 1, 1, 0, 1, 0, 1, 0, 1, 0, 1, 0, 1, 1, 1, 1, 0, 0, 0, 1, 0, 0, 0, 1, 0, 1, 0, 0, 0, 1, 1, 1, 0, 0, 0, 0, 1, 0, 1, 1, 1, 1, 0, 0, 1, 0, 1, 1, 0, 1, 1, 0, 1, 1, 0, 1, 1, 1, 1, 1, 1, 0, 1, 0, 1, 0, 0, 1, 1, 0, 1, 1, 0, 0, 1, 1, 1, 0, 1, 1, 0, 0, 1, 0, 1, 0, 0, 1, 1, 1, 1, 0, 1, 1, 0, 1, 1, 0, 1, 1, 1, 0, 0, 0, 1, 1, 0, 1, 1, 0, 1, 1, 1, 1, 0, 0, 1, 1, 1, 0, 0, 1, 0, 0, 1, 1, 1, 0, 1, 1, 1, 0, 1, 0, 0, 1, 0, 1, 0, 1, 1, 0, 1, 1, 1, 1, 1, 1, 1, 1, 0, 0, 1, 1, 1, 0, 1, 1, 1, 1, 1, 0, 1, 1, 1, 0, 0, 1, 1, 1, 1, 0, 1, 0, 1, 1, 0, 1, 1, 0, 1, 1, 1, 1, 1, 1, 1, 0, 0, 1, 1, 1, 0, 1, 0, 1, 1, 0, 0, 0, 0, 0, 0, 1, 1, 0, 0, 0, 0, 1, 0, 0, 1, 0, 0, 0, 1, 1, 1, 0, 1, 1, 1, 1, 1, 0, 1, 1, 1, 1, 1, 1, 1, 0, 1, 0, 0, 1, 1, 0, 0, 0, 0, 1, 1, 1, 0, 0, 0, 0, 1, 0, 1, 1, 0, 1, 1, 0, 0, 1, 1, 1, 0, 1, 0, 1, 0, 1, 0, 0, 1, 0, 0, 1, 0, 1, 0, 0, 0, 1, 0, 0, 1, 1, 1, 0, 0, 0, 0, 1, 1, 0, 0, 0, 0, 1, 0, 0, 0, 1, 1, 1, 1, 1, 1, 1, 1, 0, 1, 0, 0, 0, 0, 1, 0, 0, 1, 1, 1, 1, 0, 1, 1, 1, 1, 0, 1, 0, 1, 1, 0, 1, 0, 1, 1, 1, 1, 1, 1, 0, 0, 0, 1, 1, 0, 1, 1, 0, 1, 0, 0, 1, 0, 1, 1, 1, 1, 0, 1, 1, 1, 0, 1, 0, 1, 1, 1, 0, 0, 0, 0, 1, 1, 0, 0, 1, 0, 0, 1, 1, 1, 0, 1, 1, 1, 0, 0, 1, 1, 0, 0, 0, 0, 0, 0, 1, 1, 1, 1, 0, 0, 1, 0, 1, 0, 1, 1, 1, 1, 1, 0, 1, 0, 1, 1, 0, 1, 1, 1, 0, 1, 0, 0, 1, 0, 1, 1, 0, 1, 1, 0, 1, 1, 0, 1, 0, 1, 1, 0, 0, 1, 1, 0]\n"
     ]
    }
   ],
   "source": [
    "m = X_test.shape[0]\n",
    "Y_out  = []\n",
    "for i in range(m):\n",
    "    ans = predict(X_test[i], w,b)\n",
    "    Y_out.append(ans)\n",
    "print(Y_out)\n",
    "    "
   ]
  },
  {
   "cell_type": "code",
   "execution_count": 139,
   "metadata": {},
   "outputs": [
    {
     "name": "stdout",
     "output_type": "stream",
     "text": [
      "[1 1 0 1 1 1 0 1 0 0 0 1 1 1 1 0 1 0 1 1 1 0 1 0 1 1 1 0 0 1 1 1 1 0 0 0 1\n",
      " 1 0 0 1 0 0 0 0 1 1 1 0 1 1 1 1 1 0 0 0 1 1 0 0 1 1 0 1 1 0 0 0 0 1 1 0 1\n",
      " 1 1 0 1 1 1 0 0 1 1 1 0 1 1 1 0 0 1 1 0 0 1 1 1 1 0 1 0 1 1 0 1 0 1 1 0 0\n",
      " 1 0 0 0 1 0 0 1 0 0 1 0 1 0 0 0 1 1 0 1 1 1 0 1 0 1 0 1 1 1 1 0 1 0 0 1 1\n",
      " 1 0 1 1 1 1 0 1 0 0 0 0 0 0 1 0 1 0 0 1 1 1 1 1 1 1 1 1 1 0 1 0 0 1 1 1 0\n",
      " 1 1 1 1 1 0 0 1 0 1 0 0 0 1 1 1 1 0 0 1 1 1 1 0 0 0 0 0 0 1 1 1 0 1 0 0 1\n",
      " 1 1 1 0 1 1 0 0 1 0 0 1 0 1 1 0 1 1 1 0 0 0 0 0 0 1 1 1 0 1 1 0 1 0 1 1 0\n",
      " 1 1 1 0 0 1 1 1 0 1 1 1 1 1 0 1 0 0 0 0 0 1 1 0 0 0 1 1 1 0 0 1 1 0 1 0 1\n",
      " 1 1 0 1 1 0 1 1 0 1 1 1 1 0 0 1 0 1 1 0 0 1 1 1 1 1 0 1 1 0 0 0 1 0 1 1 0\n",
      " 0 1 1 1 0 1 0 1 1 1 0 1 1 1 1 1 0 1 1 1 0 1 1 0 1 1 0 1 1 1 0 1 1 0 1 0 0\n",
      " 1 1 1 1 1 1 0 1 0 0 0 1 1 1 1 1 1 0 1 1 0 1 0 1 0 0 1 0 0 1 0 0 1 0 1 1 0\n",
      " 0 1 1 1 1 0 1 0 1 0 1 1 0 1 1 1 0 1 0 1 1 0 1 1 0 1 1 0 1 0 1 1 1 1 0 1 0\n",
      " 0 0 1 0 0 0 0 1 1 1 1 0 1 1 0 0 1 1 1 1 0 1 1 0 1 1 1 1 1 1 1 1 0 1 1 1 0\n",
      " 0 1 0 1 0 1 0 0 1 0 0 0 0 1 1 1 1 1 0 1 0 0 1 0 1 0 1 1 0 0 0 0 1 0 0 0 0\n",
      " 1 0 1 0 1 1 0 1 1 1 1 1 1 1 0 0 0 1 0 0 0 1 1 1 1 1 0 0 1 1 1 0 1 0 1 0 0\n",
      " 1 1 1 1 1 0 1 0 1 0 1 0 1 0 1 1 1 1 0 0 0 1 0 0 0 1 0 1 0 0 0 1 1 1 0 0 0\n",
      " 0 1 0 1 1 1 1 0 0 1 0 1 1 0 1 1 0 1 1 0 1 1 1 1 1 1 0 1 0 1 0 0 1 1 0 1 1\n",
      " 0 0 1 1 1 0 1 1 0 0 1 0 1 0 0 1 1 1 1 0 1 1 0 1 1 0 1 1 1 0 0 0 1 1 0 1 1\n",
      " 0 1 1 1 1 0 0 1 1 1 0 0 1 0 0 1 1 1 0 1 1 1 0 1 0 0 1 0 1 0 1 1 0 1 1 1 1\n",
      " 1 1 1 1 0 0 1 1 1 0 1 1 1 1 1 0 1 1 1 0 0 1 1 1 1 0 1 0 1 1 0 1 1 0 1 1 1\n",
      " 1 1 1 1 0 0 1 1 1 0 1 0 1 1 0 0 0 0 0 0 1 1 0 0 0 0 1 0 0 1 0 0 0 1 1 1 0\n",
      " 1 1 1 1 1 0 1 1 1 1 1 1 1 0 1 0 0 1 1 0 0 0 0 1 1 1 0 0 0 0 1 0 1 1 0 1 1\n",
      " 0 0 1 1 1 0 1 0 1 0 1 0 0 1 0 0 1 0 1 0 0 0 1 0 0 1 1 1 0 0 0 0 1 1 0 0 0\n",
      " 0 1 0 0 0 1 1 1 1 1 1 1 1 0 1 0 0 0 0 1 0 0 1 1 1 1 0 1 1 1 1 0 1 0 1 1 0\n",
      " 1 0 1 1 1 1 1 1 0 0 0 1 1 0 1 1 0 1 0 0 1 0 1 1 1 1 0 1 1 1 0 1 0 1 1 1 0\n",
      " 0 0 0 1 1 0 0 1 0 0 1 1 1 0 1 1 1 0 0 1 1 0 0 0 0 0 0 1 1 1 1 0 0 1 0 1 0\n",
      " 1 1 1 1 1 0 1 0 1 1 0 1 1 1 0 1 0 0 1 0 1 1 0 1 1 0 1 1 0 1 0 1 1 0 0 1 1\n",
      " 0]\n"
     ]
    }
   ],
   "source": [
    "y_ = np.array(Y_out)\n",
    "print(y_)\n",
    "df = pd.DataFrame(data = y_)\n",
    "df.to_csv('chemical_ans.csv',index_label=\"label\",index=False)"
   ]
  },
  {
   "cell_type": "code",
   "execution_count": null,
   "metadata": {},
   "outputs": [],
   "source": []
  }
 ],
 "metadata": {
  "kernelspec": {
   "display_name": "Python 3",
   "language": "python",
   "name": "python3"
  },
  "language_info": {
   "codemirror_mode": {
    "name": "ipython",
    "version": 3
   },
   "file_extension": ".py",
   "mimetype": "text/x-python",
   "name": "python",
   "nbconvert_exporter": "python",
   "pygments_lexer": "ipython3",
   "version": "3.8.2"
  }
 },
 "nbformat": 4,
 "nbformat_minor": 4
}
