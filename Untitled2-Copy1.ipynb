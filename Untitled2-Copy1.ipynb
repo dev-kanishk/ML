{
 "cells": [
  {
   "cell_type": "code",
   "execution_count": null,
   "metadata": {},
   "outputs": [],
   "source": [
    "import gspread\n",
    "# import pandas as pd\n",
    "from pprint import pprint\n",
    "from oauth2client.service_account import ServiceAccountCredentials"
   ]
  },
  {
   "cell_type": "code",
   "execution_count": null,
   "metadata": {},
   "outputs": [],
   "source": [
    "scope = [\"https://spreadsheets.google.com/feeds\",\n",
    "         \"https://www.googleapis.com/auth/spreadsheets\",\n",
    "         \"https://www.googleapis.com/auth/drive.file\",\n",
    "         \"https://www.googleapis.com/auth/drive\"]\n",
    "creds1 = ServiceAccountCredentials.from_json_keyfile_name(\"json_data.json\")\n",
    "creds2 = ServiceAccountCredentials.from_json_keyfile_name(\"json2_data.json\")"
   ]
  },
  {
   "cell_type": "code",
   "execution_count": null,
   "metadata": {},
   "outputs": [],
   "source": [
    "client = gspread.authorize(creds1)\n",
    "client2 = gspread.authorize(creds2)"
   ]
  },
  {
   "cell_type": "markdown",
   "metadata": {},
   "source": [
    "#### In level enter Easy Problems, Medium Problems, Hard Problems or which ever page \n",
    "\n",
    "#### Also manually change the spread sheet name in client.open() and client2.open()"
   ]
  },
  {
   "cell_type": "code",
   "execution_count": null,
   "metadata": {},
   "outputs": [],
   "source": [
    "sheet = client.open(\"Target 2021 Team-1\")\n",
    "sheet2 = client.open(\"Target 2021 Team-2A\")\n",
    "sheet2b = client.open(\"Target 2021 Team-2B\")\n",
    "sheetnw =  client.open(\"new team 2a\")\n",
    "sheetnw2 =  client2.open(\"new team 2a\")\n",
    "level = input()\n",
    "page2 = sheet2.worksheet(level)\n",
    "page = sheet.worksheet(level)\n",
    "page2b = sheet2b.worksheet(level)\n",
    "pagenw = sheetnw.worksheet(level)\n",
    "pagenw2 = sheetnw2.worksheet(level)\n",
    "\n",
    "# print(sheet[2])"
   ]
  },
  {
   "cell_type": "code",
   "execution_count": null,
   "metadata": {},
   "outputs": [],
   "source": [
    "\n",
    "from gspread_formatting import *\n",
    "\n",
    "# data = sheet.get_all_records()\n",
    "data = page.get_all_values()\n",
    "data2 = page2.get_all_values()\n",
    "data2b = page2b.get_all_values()\n",
    "datanw = pagenw.get_all_values()\n",
    "\n",
    "\n"
   ]
  },
  {
   "cell_type": "markdown",
   "metadata": {},
   "source": [
    "#### For making dictionary of name index, col no. where particular person table start"
   ]
  },
  {
   "cell_type": "code",
   "execution_count": null,
   "metadata": {},
   "outputs": [],
   "source": [
    "import gspread.utils as gu\n",
    "import json\n",
    "import multiprocessing\n",
    "manager = multiprocessing.Manager()\n",
    "\n",
    "name_index = {}\n",
    "for i in range(len(data[0])):\n",
    "    if data[0][i] != \"\":\n",
    "#         print(data[0][i])\n",
    "        name_index[(data[0][i].strip().lower())] = i;\n",
    "data2 = page2.get_all_values()\n",
    "name_index2 = {}\n",
    "for i in range(len(data2[0])):\n",
    "    if data2[0][i] != \"\":\n",
    "        print(data2[0][i])\n",
    "        name_index2[(data2[0][i].strip().lower())] = i;\n",
    "name_index2b = {}\n",
    "for i in range(len(data2b[0])):\n",
    "    if data2b[0][i] != \"\":\n",
    "        print(data2b[0][i])\n",
    "        name_index2b[(data2b[0][i].strip().lower())] = i;\n",
    "name_indexnw = {}\n",
    "f = False\n",
    "names = []\n",
    "for i in range(len(datanw[0])):\n",
    "    if datanw[0][i] != \"\":\n",
    "        if f == True:\n",
    "#             print(\"c\")\n",
    "            names.append(datanw[0][i].strip().lower())\n",
    "        if datanw[0][i] == \"Link\":\n",
    "            f = True\n",
    "            \n",
    "        print(datanw[0][i])\n",
    "        name_indexnw[datanw[0][i].strip().lower()] = i;\n",
    "\n",
    "print(names)\n",
    "print(name_indexnw)"
   ]
  },
  {
   "cell_type": "markdown",
   "metadata": {},
   "source": [
    "#### please restart this function every time as container needs to be empty\n",
    "#### get_data function makes list of tuples\n",
    "#### get_format and get format2 are for format"
   ]
  },
  {
   "cell_type": "code",
   "execution_count": null,
   "metadata": {},
   "outputs": [],
   "source": [
    "import time\n",
    "container = manager.list()\n",
    "# container = []\n",
    "def get_data(no_lines,col_index,new_index,data,pagenw):\n",
    "    filtered_data = []\n",
    "    for row in range(5,no_lines+5):\n",
    "        row_data = []\n",
    "        for col in range(col_index, col_index+9):\n",
    "            row_data.append(data[row][col])\n",
    "        filtered_data.append(row_data)\n",
    "    print(\"done some\")\n",
    "    st = str(gu.rowcol_to_a1(5+1,new_index+1)) + \":\"+ str(gu.rowcol_to_a1(no_lines+6,new_index+10))\n",
    "    tup = (filtered_data, st)\n",
    "\n",
    "            \n",
    "    container.append(tup)\n",
    "            \n",
    "\n",
    "    \n",
    "def get_format(no_lines, page, pagenw, old_idx, new_idx):\n",
    "    format_matrix = []\n",
    "    row = 6 \n",
    "    count = 0;\n",
    "    no_retry = 0\n",
    "    while row < no_lines+6:\n",
    "        label = str( gu.rowcol_to_a1(row,old_idx+2) ) + \":\" + str( gu.rowcol_to_a1(row,old_idx+9) )\n",
    "        print(\"entering try block\")\n",
    "        try:\n",
    "            print(\"making request...\")\n",
    "            one_row = get_effective_format(page, label)\n",
    "            count += 1\n",
    "            \n",
    "        except:\n",
    "            if len(format_matrix) > 0:\n",
    "                print(\"updating current batch\")\n",
    "                format_cell_ranges(pagenw,format_matrix)\n",
    "                format_matrix = []\n",
    "            if no_retry > 3:\n",
    "                print(\"get_format failed at row \",row,\" \",new_index)\n",
    "                format_matrix = []\n",
    "                return format_matrix\n",
    "            \n",
    "            print(\"100 sec sleep...\")\n",
    "            no_retry += 1\n",
    "            time.sleep(50)\n",
    "            continue\n",
    "        no_retry = 0\n",
    "        print(count)\n",
    "        dis_label = str( gu.rowcol_to_a1(row,new_idx+2) ) + \":\" + str( gu.rowcol_to_a1(row,new_idx+9) )\n",
    "        one_row_tuple = (dis_label, one_row)\n",
    "        format_matrix.append(one_row_tuple)\n",
    "        row += 1\n",
    "    format_cell_ranges(pagenw,format_matrix)\n",
    "    \n",
    "def get_format2(no_lines, page, pagenw2, old_idx, new_idx):\n",
    "    format_matrix = []\n",
    "    row = 6 \n",
    "    count = 0;\n",
    "    no_retry = 0\n",
    "    while row < no_lines+6:\n",
    "        label = str( gu.rowcol_to_a1(row,old_idx+2) ) + \":\" + str( gu.rowcol_to_a1(row,old_idx+9) )\n",
    "        print(\"entering try block\")\n",
    "        try:\n",
    "            print(\"making request...\")\n",
    "            one_row = get_effective_format(page, label)\n",
    "            count += 1\n",
    "            \n",
    "        except:\n",
    "            if len(format_matrix) > 0:\n",
    "                print(\"updating current batch\")\n",
    "                format_cell_ranges(pagenw2,format_matrix)\n",
    "                format_matrix = []\n",
    "            if no_retry > 3:\n",
    "                print(\"get_format failed at row \",row,\" \",new_index)\n",
    "                format_matrix = []\n",
    "                return format_matrix\n",
    "            \n",
    "            print(\"100 sec sleep...\")\n",
    "            no_retry += 1\n",
    "            time.sleep(50)\n",
    "            continue\n",
    "        no_retry = 0\n",
    "        print(count)\n",
    "        dis_label = str( gu.rowcol_to_a1(row,new_idx+2) ) + \":\" + str( gu.rowcol_to_a1(row,new_idx+9) )\n",
    "        one_row_tuple = (dis_label, one_row)\n",
    "        format_matrix.append(one_row_tuple)\n",
    "        row += 1\n",
    "    format_cell_ranges(pagenw2,format_matrix)\n",
    "\n",
    "        \n",
    "    \n",
    "    \n",
    "    \n",
    "    \n",
    "    \n"
   ]
  },
  {
   "cell_type": "markdown",
   "metadata": {},
   "source": [
    "#### format_update to create a list for format update"
   ]
  },
  {
   "cell_type": "code",
   "execution_count": null,
   "metadata": {},
   "outputs": [],
   "source": [
    "\n",
    "data_lis = [data, data2, data2b]\n",
    "name_index_lis = [name_index, name_index2, name_index2b, name_indexnw]\n",
    "\n",
    "final_list = []\n",
    "\n",
    "# def format_update():\n",
    "#     j = 0;\n",
    "#     for who in names:\n",
    "#         print(who)\n",
    "#         if who in name_index_lis[0]:\n",
    "#             print(\"team1\")\n",
    "#             ix = name_index_lis[0][who]\n",
    "#             page = page\n",
    "#         elif who in name_index_lis[1]:\n",
    "#             print(\"team2\")\n",
    "#             ix = name_index_lis[1][who]\n",
    "#             page = page2\n",
    "#         elif who in name_index_lis[2]:\n",
    "#             print(\"team3\")\n",
    "#             ix = name_index_lis[2][who]\n",
    "# #             sheet = client.open(\"Target 2021 Team-2B\")\n",
    "# #             data = data_lis[2]\n",
    "#             page = page2b\n",
    "#         else:\n",
    "#             print(who,\"failed\")\n",
    "#             continue\n",
    "#         iy = name_index_lis[3][who]\n",
    "#         final_list.append([110,page,pagenw,ix,iy])\n",
    "        \n",
    "        \n",
    "            \n",
    "            \n",
    "            "
   ]
  },
  {
   "cell_type": "markdown",
   "metadata": {},
   "source": [
    "#### uncomment the following code to update format"
   ]
  },
  {
   "cell_type": "code",
   "execution_count": null,
   "metadata": {},
   "outputs": [],
   "source": [
    "\n",
    "\n",
    "\n",
    "# format_update()\n",
    "# # pprint(final_list)\n",
    "# i = 0\n",
    "# while i < len(final_list):\n",
    "#     p_list = []\n",
    "#     p1 = multiprocessing.Process(target=get_format,args=[final_list[i][0],final_list[i][1],final_list[i][2],final_list[i][3] ,final_list[i][4]])\n",
    "#     p1.start()\n",
    "#     p_list.append(p1)\n",
    "#     i += 1\n",
    "#     if i < len(final_list):\n",
    "#         p2 = multiprocessing.Process(target=get_format2,args=[final_list[i][0],final_list[i][1],pagenw2,final_list[i][3],final_list[i][4] ])\n",
    "\n",
    "#         p2.start()\n",
    "#         p_list.append(p2)\n",
    "#         i += 1\n",
    "#     for p in p_list:\n",
    "#         p.join()\n",
    "    "
   ]
  },
  {
   "cell_type": "markdown",
   "metadata": {},
   "source": [
    "#### data update funtion to be call for starting update, make sure container is empty every time\n",
    "\n",
    "#### In line where process is initialized, change first argument which is 110 currently to any length of lines"
   ]
  },
  {
   "cell_type": "code",
   "execution_count": null,
   "metadata": {},
   "outputs": [],
   "source": [
    "\n",
    "\n",
    "\n",
    "def data_update():\n",
    "#     container = []\n",
    "    p_list = []\n",
    "    j = 0;\n",
    "    for who in names:\n",
    "        print(who)\n",
    "        if who in name_index_lis[0]:\n",
    "            print(\"team1\")\n",
    "            ix = name_index_lis[0][who]\n",
    "            sheet = client.open(\"Target 2021 Team-1\")\n",
    "            data = data_lis[0]\n",
    "            page = sheet.worksheet(level)\n",
    "        elif who in name_index_lis[1]:\n",
    "            print(\"team2\")\n",
    "            ix = name_index_lis[1][who]\n",
    "            sheet = client.open(\"Target 2021 Team-2A\")\n",
    "            data = data_lis[1]\n",
    "            page = sheet.worksheet(level)\n",
    "        elif who in name_index_lis[2]:\n",
    "            print(\"team3\")\n",
    "            ix = name_index_lis[2][who]\n",
    "            sheet = client.open(\"Target 2021 Team-2B\")\n",
    "            data = data_lis[2]\n",
    "            page = sheet.worksheet(level)\n",
    "        else:\n",
    "            print(who,\"failed\")\n",
    "            continue\n",
    "        j += 1\n",
    "        sheetnw =  client.open(\"New Target 2021 Team-1\")\n",
    "        pagenw = sheetnw.worksheet(level)\n",
    "        iy = name_index_lis[3][who]\n",
    "    #     filtered_data = []\n",
    "        print(\"staring..\")\n",
    "        p1 = multiprocessing.Process(target=get_data,args=[110,ix,iy,data,pagenw])\n",
    "        p_list.append(p1)\n",
    "        p1.start();\n"
   ]
  },
  {
   "cell_type": "markdown",
   "metadata": {},
   "source": [
    "#### First call data_update then onces it is complete  uncomment the following code from i = 0 to update the sheet"
   ]
  },
  {
   "cell_type": "code",
   "execution_count": null,
   "metadata": {},
   "outputs": [],
   "source": [
    "\n",
    "data_update()\n",
    "\n",
    "# i = 0\n",
    "# print(\"requested all data\")\n",
    "# print(container)\n",
    "# while i < len(container):\n",
    "#     if i < len(container):\n",
    "#         print(\"updating \",i)\n",
    "#         pagenw.update(container[i][1],container[i][0])\n",
    "#         i += 1\n"
   ]
  },
  {
   "cell_type": "code",
   "execution_count": null,
   "metadata": {},
   "outputs": [],
   "source": []
  },
  {
   "cell_type": "code",
   "execution_count": null,
   "metadata": {},
   "outputs": [],
   "source": [
    "\n"
   ]
  }
 ],
 "metadata": {
  "kernelspec": {
   "display_name": "Python 3",
   "language": "python",
   "name": "python3"
  },
  "language_info": {
   "codemirror_mode": {
    "name": "ipython",
    "version": 3
   },
   "file_extension": ".py",
   "mimetype": "text/x-python",
   "name": "python",
   "nbconvert_exporter": "python",
   "pygments_lexer": "ipython3",
   "version": "3.7.5"
  }
 },
 "nbformat": 4,
 "nbformat_minor": 4
}
