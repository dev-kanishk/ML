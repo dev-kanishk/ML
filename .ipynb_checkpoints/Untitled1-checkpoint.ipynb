{
 "cells": [
  {
   "cell_type": "code",
   "execution_count": 2,
   "metadata": {},
   "outputs": [],
   "source": [
    "import numpy as np\n",
    "import matplotlib.pyplot as plt\n",
    "import pandas as pd"
   ]
  },
  {
   "cell_type": "code",
   "execution_count": 5,
   "metadata": {},
   "outputs": [
    {
     "name": "stdout",
     "output_type": "stream",
     "text": [
      "      feature_1  feature_2  feature_3  feature_4  feature_5      target\n",
      "0      0.293416  -0.945599  -0.421105   0.406816   0.525662  -82.154667\n",
      "1     -0.836084  -0.189228  -0.776403  -1.053831   0.597997  -48.897960\n",
      "2      0.236425   0.132836  -0.147723   0.699854  -0.187364   77.270371\n",
      "3      0.175312   0.143194  -0.581111  -0.122107  -1.292168   -2.988581\n",
      "4     -1.693011   0.542712  -2.798729  -0.686723   1.244077  -37.596722\n",
      "...         ...        ...        ...        ...        ...         ...\n",
      "1595  -0.274961  -0.820634  -0.757173  -0.147555  -0.307149  -80.110012\n",
      "1596  -0.076099   0.255257   0.290054   1.796036   0.340350  118.315601\n",
      "1597   1.044177  -0.899206   1.730399  -1.871057   0.442520 -107.510508\n",
      "1598  -1.269173  -0.005052   1.857669  -1.080365   0.736334  -47.341558\n",
      "1599  -1.884000  -0.849427  -1.452270   0.488613   1.459576 -115.939003\n",
      "\n",
      "[1600 rows x 6 columns]\n",
      "[[ 0.31883538]\n",
      " [29.59359198]\n",
      " [94.65067706]\n",
      " [ 8.37544469]\n",
      " [45.52303635]\n",
      " [ 2.46461552]]\n"
     ]
    },
    {
     "data": {
      "image/png": "[encoded data removed]",
      "text/plain": [
       "<Figure size 576x396 with 1 Axes>"
      ]
     },
     "metadata": {},
     "output_type": "display_data"
    }
   ],
   "source": [
    "def hypothesis(X, theta):\n",
    "    return np.dot(X,theta)\n",
    "def gradient(X, y, theta):\n",
    "    y_= hypothesis(X, theta)\n",
    "#     print(y_)\n",
    "#     print(y_-y)\n",
    "    grad = np.dot(X.T,(y_-y))\n",
    "    m = X.shape[0]\n",
    "#     print(grad)\n",
    "    return grad/m\n",
    "def error(X, y, theta):\n",
    "    m = X.shape[0]\n",
    "    y_ = hypothesis(X,theta)\n",
    "    e = np.sum((y-y_)**2)\n",
    "    return e/m\n",
    "def grd_d(X, y, learning_r = 0.1, max_iters = 1000):\n",
    "    n = X.shape[1]\n",
    "    error_list = []\n",
    "    theta = np.zeros((n,1))\n",
    "#     theta = theta.T\n",
    "#     print(theta)\n",
    "    for i in range(max_iters):\n",
    "        e = error(X, y, theta)\n",
    "        error_list.append(e)\n",
    "        \n",
    "        grad = gradient(X, y,theta)\n",
    "#         print(grad)\n",
    "        theta = theta - learning_r*grad\n",
    "    return theta,error_list\n",
    "\n",
    "X = pd.read_csv('./Training Data/Train/Train.csv')\n",
    "print(X)\n",
    "X = X.to_numpy()\n",
    "y = X[:,[5,]]\n",
    "# print(y)\n",
    "# print(y)\n",
    "X = X[:,[0,1,2,3,4]]\n",
    "u = np.mean(X, axis = 0)\n",
    "std = np.std(X, axis = 0)\n",
    "X = (X-u)/std\n",
    "ones = np.ones((X.shape[0],1))\n",
    "X = np.hstack((ones,X))\n",
    "# print(X)\n",
    "# print(X.shape[1])\n",
    "theta,error = grd_d(X, y)\n",
    "plt.style.use(\"seaborn\")\n",
    "plt.tick_params(labelsize=120);\n",
    "plt.plot(error)\n",
    "# print(theta)\n",
    "\n",
    "X_test = pd.read_csv('./Test Cases/Test/Test.csv')\n",
    "X_test = X_test.to_numpy()\n",
    "print(theta)\n",
    "y_ = []\n",
    "ones = np.ones((X_test.shape[0],1))\n",
    "X_test = np.hstack((ones,X_test))\n",
    "m = X_test.shape[0]\n",
    "for i in range(m):\n",
    "    pred = hypothesis(X_test[i], theta)\n",
    "    y_.append(pred)\n",
    "y_ = np.array(y_)\n",
    "# print(y_)\n",
    "df = pd.DataFrame(data = y_, columns = [\"target\"])\n",
    "df.to_csv('ans.csv')\n",
    "\n"
   ]
  },
  {
   "cell_type": "code",
   "execution_count": null,
   "metadata": {},
   "outputs": [],
   "source": []
  }
 ],
 "metadata": {
  "kernelspec": {
   "display_name": "Python 3",
   "language": "python",
   "name": "python3"
  },
  "language_info": {
   "codemirror_mode": {
    "name": "ipython",
    "version": 3
   },
   "file_extension": ".py",
   "mimetype": "text/x-python",
   "name": "python",
   "nbconvert_exporter": "python",
   "pygments_lexer": "ipython3",
   "version": "3.7.5"
  }
 },
 "nbformat": 4,
 "nbformat_minor": 4
}
